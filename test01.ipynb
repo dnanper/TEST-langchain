{
  "nbformat": 4,
  "nbformat_minor": 0,
  "metadata": {
    "colab": {
      "provenance": [],
      "authorship_tag": "ABX9TyPp+Q2lK/z/g52YA23IyXjD",
      "include_colab_link": true
    },
    "kernelspec": {
      "name": "python3",
      "display_name": "Python 3"
    },
    "language_info": {
      "name": "python"
    }
  },
  "cells": [
    {
      "cell_type": "markdown",
      "metadata": {
        "id": "view-in-github",
        "colab_type": "text"
      },
      "source": [
        "<a href=\"https://colab.research.google.com/github/dnanper/TEST-langchain/blob/main/test01.ipynb\" target=\"_parent\"><img src=\"https://colab.research.google.com/assets/colab-badge.svg\" alt=\"Open In Colab\"/></a>"
      ]
    },
    {
      "cell_type": "code",
      "execution_count": 1,
      "metadata": {
        "id": "Ufs3v05uJYiz"
      },
      "outputs": [],
      "source": [
        "!pip install -U langchain-core>=0.3.47 langchain-openai>=0.3.9 langchain-community==0.3.16"
      ]
    },
    {
      "cell_type": "code",
      "source": [
        "import os\n",
        "from getpass import getpass\n",
        "\n",
        "os.environ[\"OPENROUTER_API_KEY\"] = os.getenv(\"OPENROUTER_API_KEY\") or getpass(\n",
        "    \"Enter OpenRouter API Key: \"\n",
        ")\n",
        "\n",
        "openrouter_model = \"deepseek/deepseek-r1:free\""
      ],
      "metadata": {
        "colab": {
          "base_uri": "https://localhost:8080/"
        },
        "id": "fvdwYAmFWB2w",
        "outputId": "1e0a6e9b-da2e-4e84-86a3-ed7c53129da5"
      },
      "execution_count": 3,
      "outputs": [
        {
          "name": "stdout",
          "output_type": "stream",
          "text": [
            "Enter OpenRouter API Key: ··········\n"
          ]
        }
      ]
    },
    {
      "cell_type": "code",
      "source": [
        "from langchain_openai import ChatOpenAI\n",
        "llm = ChatOpenAI(temperature=0.0,\n",
        "                api_key = os.getenv(\"OPENROUTER_API_KEY\"),\n",
        "                     base_url = \"https://openrouter.ai/api/v1\",\n",
        "                     model_name=openrouter_model)\n",
        "create_llm = ChatOpenAI(temperature=0.9,\n",
        "                        api_key=os.getenv(\"OPENROUTER_API_KEY\"),\n",
        "                            base_url = \"https://openrouter.ai/api/v1\",\n",
        "                            model_name=openrouter_model)"
      ],
      "metadata": {
        "id": "TPM0zwoiKe3N"
      },
      "execution_count": 5,
      "outputs": []
    },
    {
      "cell_type": "code",
      "source": [
        "print(type(create_llm))"
      ],
      "metadata": {
        "colab": {
          "base_uri": "https://localhost:8080/"
        },
        "id": "pkk3vl0KRs-G",
        "outputId": "b534db9d-e546-4718-a26a-e5ff0ac2d4fe"
      },
      "execution_count": 6,
      "outputs": [
        {
          "output_type": "stream",
          "name": "stdout",
          "text": [
            "<class 'langchain_openai.chat_models.base.ChatOpenAI'>\n"
          ]
        }
      ]
    },
    {
      "cell_type": "code",
      "source": [
        "article = \"\"\"\n",
        "\\\n",
        "We believe AI's short—to mid-term future belongs to agents and that the long-term future of *AGI* may evolve from agentic systems. Our definition of agents covers any neuro-symbolic system in which we merge neural AI (such as an LLM) with semi-traditional software.\n",
        "\n",
        "With agents, we allow LLMs to integrate with code — allowing AI to search the web, perform math, and essentially integrate into anything we can build with code. It should be clear the scope of use cases is phenomenal where AI can integrate with the broader world of software.\n",
        "\n",
        "In this introduction to AI agents, we will cover the essential concepts that make them what they are and why that will make them the core of real-world AI in the years to come.\n",
        "\n",
        "---\n",
        "\n",
        "## Neuro-Symbolic Systems\n",
        "\n",
        "Neuro-symbolic systems consist of both neural and symbolic computation, where:\n",
        "\n",
        "- Neural refers to LLMs, embedding models, or other neural network-based models.\n",
        "- Symbolic refers to logic containing symbolic logic, such as code.\n",
        "\n",
        "Both neural and symbolic AI originate from the early philosophical approaches to AI: connectionism (now neural) and symbolism. Symbolic AI is the more traditional AI. Diehard symbolists believed they could achieve true AGI via written rules, ontologies, and other logical functions.\n",
        "\n",
        "The other camp were the connectionists. Connectionism emerged in 1943 with a theoretical neural circuit but truly kicked off with Rosenblatt's perceptron paper in 1958 [1][2]. Both of these approaches to AI are fascinating but deserve more time than we can give them here, so we will leave further exploration of these concepts for a future chapter.\n",
        "\n",
        "Most important to us is understanding where symbolic logic outperforms neural-based compute and vice-versa.\n",
        "\n",
        "| Neural | Symbolic |\n",
        "| --- | --- |\n",
        "| Flexible, learned logic that can cover a huge range of potential scenarios. | Mostly hand-written rules which can be very granular and fine-tuned but hard to scale. |\n",
        "| Hard to interpret why a neural system does what it does. Very difficult or even impossible to predict behavior. | Rules are written and can be understood. When unsure why a particular ouput was produced we can look at the rules / logic to understand. |\n",
        "| Requires huge amount of data and compute to train state-of-the-art neural models, making it hard to add new abilities or update with new information. | Code is relatively cheap to write, it can be updated with new features easily, and latest information can often be added often instantaneously. |\n",
        "| When trained on broad datasets can often lack performance when exposed to unique scenarios that are not well represented in the training data. | Easily customized to unique scenarios. |\n",
        "| Struggles with complex computations such as mathematical operations. | Perform complex computations very quickly and accurately. |\n",
        "\n",
        "Pure neural architectures struggle with many seemingly simple tasks. For example, an LLM *cannot* provide an accurate answer if we ask it for today's date.\n",
        "\n",
        "Retrieval Augmented Generation (RAG) is commonly used to provide LLMs with up-to-date knowledge on a particular subject or access to proprietary knowledge.\n",
        "\n",
        "### Giving LLMs Superpowers\n",
        "\n",
        "By 2020, it was becoming clear that neural AI systems could not perform tasks symbolic systems typically excelled in, such as arithmetic, accessing structured DB data, or making API calls. These tasks require discrete input parameters that allow us to process them reliably according to strict written logic.\n",
        "\n",
        "In 2022, researchers at AI21 developed Jurassic-X, an LLM-based \"neuro-symbolic architecture.\" Neuro-symbolic refers to merging the \"neural computation\" of large language models (LLMs) with more traditional (i.e. symbolic) computation of code.\n",
        "\n",
        "Jurassic-X used the Modular Reasoning, Knowledge, and Language (MRKL) system [3]. The researchers developed MRKL to solve the limitations of LLMs, namely:\n",
        "\n",
        "- Lack of up-to-date knowledge, whether that is the latest in AI or something as simple as today's date.\n",
        "- Lack of proprietary knowledge, such as internal company docs or your calendar bookings.\n",
        "- Lack of reasoning, i.e. the inability to perform operations that traditional software is good at, like running complex mathematical operations.\n",
        "- Lack of ability to generalize. Back in 2022, most LLMs had to be fine-tuned to perform well in a specific domain. This problem is still present today but far less prominent as the SotA models generalize much better and, in the case of MRKL, are able to use tools relatively well (although we could certainly take the MRKL solution to improve tool use performance even today).\n",
        "\n",
        "MRKL represents one of the earliest forms of what we would now call an agent; it is an LLM (neural computation) paired with executable code (symbolic computation).\n",
        "\n",
        "## ReAct and Tools\n",
        "\n",
        "There is a misconception in the broader industry that an AI agent is an LLM contained within some looping logic that can generate inputs for and execute code functions. This definition of agents originates from the huge popularity of the ReAct agent framework and the adoption of a similar structure with function/tool calling by LLM providers such as OpenAI, Anthropic, and Ollama.\n",
        "\n",
        "![ReAct agent flow with the Reasoning-Action loop [4]. When the action chosen specifies to use a normal tool, the tool is used and the observation returned for another iteration through the Reasoning-Action loop. To return a final answer to the user the LLM must choose action \"answer\" and provide the natural language response, finishing the loop.](/images/posts/ai-agents/ai-agents-00.png)\n",
        "\n",
        "<small>ReAct agent flow with the Reasoning-Action loop [4]. When the action chosen specifies to use a normal tool, the tool is used and the observation returned for another iteration through the Reasoning-Action loop. To return a final answer to the user the LLM must choose action \"answer\" and provide the natural language response, finishing the loop.</small>\n",
        "\n",
        "Our \"neuro-symbolic\" definition is much broader but certainly does include ReAct agents and LLMs paired with tools. This agent type is the most common for now, so it's worth understanding the basic concept behind it.\n",
        "\n",
        "The **Re**ason **Act**ion (ReAct) method encourages LLMs to generate iterative *reasoning* and *action* steps. During *reasoning,* the LLM describes what steps are to be taken to answer the user's query. Then, the LLM generates an *action,* which we parse into an input to some executable code, which we typically describe as a tool/function call.\n",
        "\n",
        "![ReAct method. Each iteration includes a Reasoning step followed by an Action (tool call) step. The Observation is the output from the previous tool call. During the final iteration the agent calls the answer tool, meaning we generate the final answer for the user.](/images/posts/ai-agents/ai-agents-01.png)\n",
        "\n",
        "<small>ReAct method. Each iteration includes a Reasoning step followed by an Action (tool call) step. The Observation is the output from the previous tool call. During the final iteration the agent calls the answer tool, meaning we generate the final answer for the user.</small>\n",
        "\n",
        "Following the reason and action steps, our action tool call returns an observation. The logic returns the observation to the LLM, which is then used to generate subsequent reasoning and action steps.\n",
        "\n",
        "The ReAct loop continues until the LLM has enough information to answer the original input. Once the LLM reaches this state, it calls a special *answer* action with the generated answer for the user.\n",
        "\n",
        "## Not only LLMs and Tool Calls\n",
        "\n",
        "LLMs paired with tool calling are powerful but far from the only approach to building agents. Using the definition of neuro-symbolic, we cover architectures such as:\n",
        "\n",
        "- Multi-agent workflows that involve multiple LLM-tool (or other agent structure) combinations.\n",
        "- More deterministic workflows where we may have set neural model-tool paths that may fork or merge as the use case requires.\n",
        "- Embedding models that can detect user intents and decide tool-use or LLM selection-based selection in vector space.\n",
        "\n",
        "These are just a few high-level examples of alternative agent structures. Far from being designed for niche use cases, we find these alternative options to frequently perform better than the more common ReAct or Tool agents. We will cover all of these examples and more in future chapters.\n",
        "\n",
        "---\n",
        "\n",
        "Agents are fundamental to the future of AI, but that doesn't mean we should expect that future to come from agents in their most popular form today. ReAct and Tool agents are great and handle many simple use cases well, but the scope of agents is much broader, and we believe thinking beyond ReAct and Tools is key to building future AI.\n",
        "\n",
        "---\n",
        "\n",
        "You can sign up for the [Aurelio AI newsletter](https://b0fcw9ec53w.typeform.com/to/w2BDHVK7) to stay updated on future releases in our comprehensive course on agents.\n",
        "\n",
        "---\n",
        "\n",
        "## References\n",
        "\n",
        "[1] The curious case of Connectionism (2019) [https://www.degruyter.com/document/doi/10.1515/opphil-2019-0018/html](https://www.degruyter.com/document/doi/10.1515/opphil-2019-0018/html)\n",
        "\n",
        "[2] F. Rosenblatt, [The Perceptron: A Probabilistic Model for Information Storage and Organization in the Brain](https://www.ling.upenn.edu/courses/cogs501/Rosenblatt1958.pdf) (1958), Psychological Review\n",
        "\n",
        "[3] E. Karpas et al. [MRKL Systems: A Modular, Neuro-Symbolic Architecture That Combines Large Language Models, External Knowledge Sources and Discrete Reasoning](https://arxiv.org/abs/2205.00445) (2022), AI21 Labs\n",
        "\"\"\""
      ],
      "metadata": {
        "id": "MiAQeVVkK1Dm"
      },
      "execution_count": 23,
      "outputs": []
    },
    {
      "cell_type": "code",
      "source": [
        "from langchain.prompts import SystemMessagePromptTemplate, HumanMessagePromptTemplate\n",
        "\n",
        "system_prompt = SystemMessagePromptTemplate.from_template(\n",
        "    \"You are an AI assistant that helps generate article titles.\"\n",
        ")\n",
        "\n",
        "user_prompt = HumanMessagePromptTemplate.from_template(\n",
        "    \"\"\"\n",
        "    You are tasked with creating a name for a article.\n",
        "    The article is here for you to examine {article}\n",
        "\n",
        "    The name should be based of the context of the article.\n",
        "    Be creative, but make sure the names are clear, catchy,\n",
        "    and relevant to the theme of the article.\n",
        "\n",
        "    Only output the article name, no other explanation or\n",
        "    text can be provided.\n",
        "    \"\"\",\n",
        "    input_variables=[\"article\"]\n",
        ")"
      ],
      "metadata": {
        "id": "Rm3EO1AVLXts"
      },
      "execution_count": 8,
      "outputs": []
    },
    {
      "cell_type": "code",
      "source": [
        "print(user_prompt.format(article=\"Test String\").content)"
      ],
      "metadata": {
        "colab": {
          "base_uri": "https://localhost:8080/"
        },
        "id": "_rxn0CSvL7HU",
        "outputId": "123dd9c3-780b-4113-f0c5-d03173866fa4"
      },
      "execution_count": 9,
      "outputs": [
        {
          "output_type": "stream",
          "name": "stdout",
          "text": [
            "\n",
            "    You are tasked with creating a name for a article.\n",
            "    The article is here for you to examine Test String\n",
            "\n",
            "    The name should be based of the context of the article.\n",
            "    Be creative, but make sure the names are clear, catchy,\n",
            "    and relevant to the theme of the article.\n",
            "\n",
            "    Only output the article name, no other explanation or\n",
            "    text can be provided.\n",
            "    \n"
          ]
        }
      ]
    },
    {
      "cell_type": "code",
      "source": [
        "from langchain.prompts import ChatPromptTemplate\n",
        "first_prompt = ChatPromptTemplate.from_messages([system_prompt, user_prompt])"
      ],
      "metadata": {
        "id": "-Dbt1RBoMAhq"
      },
      "execution_count": 10,
      "outputs": []
    },
    {
      "cell_type": "code",
      "source": [
        "# print(first_prompt.format(article=article))"
      ],
      "metadata": {
        "id": "K2sPBH_-NbKy"
      },
      "execution_count": 11,
      "outputs": []
    },
    {
      "cell_type": "code",
      "source": [
        "first_chain = (\n",
        "    {\"article\" : lambda x : x[\"article\"]}\n",
        "    | first_prompt\n",
        "    | create_llm\n",
        "    | {\"res_article_tit\" : lambda x : x.content}\n",
        ")"
      ],
      "metadata": {
        "id": "PTbIknwkNeAo"
      },
      "execution_count": 12,
      "outputs": []
    },
    {
      "cell_type": "code",
      "source": [
        "print(type(first_chain))"
      ],
      "metadata": {
        "colab": {
          "base_uri": "https://localhost:8080/"
        },
        "id": "JSMUwjuTO3Do",
        "outputId": "ee6652a9-d6d1-4521-e381-e9d4ff6f766c"
      },
      "execution_count": 13,
      "outputs": [
        {
          "output_type": "stream",
          "name": "stdout",
          "text": [
            "<class 'langchain_core.runnables.base.RunnableSequence'>\n"
          ]
        }
      ]
    },
    {
      "cell_type": "code",
      "source": [
        "res = first_chain.invoke({\"article\" : article})"
      ],
      "metadata": {
        "id": "ewUlDptcPDuW"
      },
      "execution_count": 14,
      "outputs": []
    },
    {
      "cell_type": "code",
      "source": [
        "res"
      ],
      "metadata": {
        "id": "YbnReIyDPi92",
        "colab": {
          "base_uri": "https://localhost:8080/"
        },
        "outputId": "04aed885-68b9-40ee-fce4-75e9c8673e43"
      },
      "execution_count": 17,
      "outputs": [
        {
          "output_type": "execute_result",
          "data": {
            "text/plain": [
              "{'res_article_tit': 'The Rise of AI Agents: Bridging Neural and Symbolic Intelligence to Shape the Future of Intelligent Systems'}"
            ]
          },
          "metadata": {},
          "execution_count": 17
        }
      ]
    },
    {
      "cell_type": "code",
      "source": [
        "second_user_prompt = HumanMessagePromptTemplate.from_template(\n",
        "    \"\"\"\n",
        "    You are tasked with creating a new paragraph for the\n",
        "    article. The article is here for you to examine:\n",
        "\n",
        "    ---\n",
        "\n",
        "    {article}\n",
        "\n",
        "    ---\n",
        "\n",
        "    Choose one paragraph to review and edit. During your edit\n",
        "    ensure you provide constructive feedback to the user so they\n",
        "    can learn where to improve their own writing.\n",
        "    Given the following article, analyze and return a JSON object with the following structure:\n",
        "\n",
        "    {{\n",
        "      \"original_paragraph\": \"<original paragraph here>\",\n",
        "      \"edited_paragraph\": \"<edited paragraph here>\",\n",
        "      \"feedback\": \"<feedback here>\"\n",
        "    }}\n",
        "    \"\"\",\n",
        "    input_variables=[\"article\"]\n",
        ")\n",
        "second_prompt = ChatPromptTemplate.from_messages([system_prompt, second_user_prompt])"
      ],
      "metadata": {
        "id": "AC0-cJGxYgr6"
      },
      "execution_count": 30,
      "outputs": []
    },
    {
      "cell_type": "code",
      "source": [
        "from pydantic import BaseModel, Field"
      ],
      "metadata": {
        "id": "p2KBulF7ZoxB"
      },
      "execution_count": 19,
      "outputs": []
    },
    {
      "cell_type": "code",
      "source": [
        "class Paragraph(BaseModel):\n",
        "  original_paragraph: str = Field(description=\"The original paragraph\")\n",
        "  edited_paragraph: str = Field(description=\"The edited paragraph\")\n",
        "  feedback: str = Field(description=\"Feedback on the original paragraph\")\n",
        "\n",
        "# Tạo một LLM mới dựa trên create_llm, với output mặc định có cấu trúc là class Paragraph, bất kể input là gì\n",
        "structrued_llm = create_llm.with_structured_output(Paragraph)"
      ],
      "metadata": {
        "id": "LO5XqxRAZvW5"
      },
      "execution_count": 20,
      "outputs": []
    },
    {
      "cell_type": "code",
      "source": [
        "second_chain = (\n",
        "    {\"article\" : lambda x : x[\"article\"]}\n",
        "    | second_prompt\n",
        "    | structrued_llm\n",
        "    | { \"original_paragraph\": lambda x: x.original_paragraph,\n",
        "        \"edited_paragraph\": lambda x: x.edited_paragraph,\n",
        "        \"feedback\": lambda x: x.feedback\n",
        "    }\n",
        ")"
      ],
      "metadata": {
        "id": "BpnUUweIabx5"
      },
      "execution_count": 31,
      "outputs": []
    },
    {
      "cell_type": "code",
      "source": [
        "# out = second_chain.invoke({\"article\" : article})\n",
        "# out"
      ],
      "metadata": {
        "id": "OHTCy9xZat9o"
      },
      "execution_count": 33,
      "outputs": []
    },
    {
      "cell_type": "code",
      "source": [
        "from langchain_community.utilities.dalle_image_generator import DallEAPIWrapper\n",
        "from langchain_core.prompts import PromptTemplate\n",
        "\n",
        "image_prompt = PromptTemplate(\n",
        "    input_variables=[\"article\"],\n",
        "    template=(\n",
        "        \"Generate a prompt with less then 500 characters to generate an image \"\n",
        "        \"based on the following article: {article}\"\n",
        "    )\n",
        ")"
      ],
      "metadata": {
        "id": "UYaj6H-nazH_"
      },
      "execution_count": 34,
      "outputs": []
    },
    {
      "cell_type": "code",
      "source": [
        "from skimage import io\n",
        "import matplotlib.pyplot as plt\n",
        "from langchain_core.runnables import RunnableLambda\n",
        "import openai\n",
        "\n",
        "# def generate_and_display_image(image_prompt):\n",
        "#     image_url = DallEAPIWrapper().run(image_prompt)\n",
        "#     image_data = io.imread(image_url)\n",
        "\n",
        "#     # And update the display code to:\n",
        "#     plt.imshow(image_data)\n",
        "#     plt.axis('off')\n",
        "#     plt.show()\n",
        "\n",
        "def generate_and_display_image(image_prompt):\n",
        "    # Initialize the OpenAI client pointing to the OpenRouter API\n",
        "    client = openai.OpenAI(\n",
        "        api_key=os.getenv(\"OPENROUTER_API_KEY\"),\n",
        "        base_url=\"https://openrouter.ai/api/v1\"\n",
        "    )\n",
        "    try:\n",
        "      response = client.images.generate(\n",
        "          model = \"dall-e-2\",\n",
        "          prompt = image_prompt,\n",
        "          n = 1,\n",
        "          size = \"512x512\"\n",
        "      )\n",
        "      image_url = response.data[0].url\n",
        "    except Exception as e:\n",
        "      print(f\"Error generating image: {e}\")\n",
        "      return\n",
        "\n",
        "    image_data = io.imread(image_url)\n",
        "    plt.imshow(image_data)\n",
        "    plt.axis('off')\n",
        "    plt.show()\n",
        "\n",
        "# we wrap this in a RunnableLambda for use with LCEL\n",
        "image_gen_runnable = RunnableLambda(generate_and_display_image)"
      ],
      "metadata": {
        "id": "9fH2BNR1fHV6"
      },
      "execution_count": 41,
      "outputs": []
    },
    {
      "cell_type": "code",
      "source": [
        "third_chain = (\n",
        "    {\"article\" : lambda x : x[\"article\"]}\n",
        "    | image_prompt\n",
        "    | llm\n",
        "    | (lambda x : x.content)\n",
        "    | image_gen_runnable\n",
        ")"
      ],
      "metadata": {
        "id": "A_rdbXYDfRLy"
      },
      "execution_count": 42,
      "outputs": []
    },
    {
      "cell_type": "code",
      "source": [
        "image_01 = third_chain.invoke({\"article\" : article})"
      ],
      "metadata": {
        "colab": {
          "base_uri": "https://localhost:8080/"
        },
        "id": "8oPsbIgHffn5",
        "outputId": "5776bb6d-407c-4778-b8f8-71953b5ab472"
      },
      "execution_count": 43,
      "outputs": [
        {
          "output_type": "stream",
          "name": "stdout",
          "text": [
            "Error generating image: Error code: 405\n"
          ]
        }
      ]
    },
    {
      "cell_type": "code",
      "source": [],
      "metadata": {
        "id": "f5Msk6AGfiV6"
      },
      "execution_count": null,
      "outputs": []
    }
  ]
}